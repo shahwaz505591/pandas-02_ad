{
 "cells": [
  {
   "cell_type": "markdown",
   "id": "7858450b-be63-451e-a8fb-1cf8b7aec202",
   "metadata": {},
   "source": [
    "Q1. Print the data present in the second row of the dataframe, df:\n",
    "\n",
    "import pandas as pd\n",
    "\n",
    "course_name = ['Data Science', 'Machine Learning', 'Big Data', 'Data Engineer']\n",
    "duration = [2, 3, 6, 4]\n",
    "df = pd.DataFrame(data={'course_name': course_name, 'duration': duration})\n",
    "\n",
    "# Code to print data in the second row\n",
    "second_row_data = df.iloc[1]\n",
    "print(\"Data in the second row:\")\n",
    "print(second_row_data)\n"
   ]
  },
  {
   "cell_type": "markdown",
   "id": "873f1d1b-30cf-4bd4-a40f-f8e515ee9914",
   "metadata": {},
   "source": [
    "Q2. Difference between loc and iloc in pandas.DataFrame:\n",
    "\n",
    "loc: Allows you to access a group of rows and columns by labels or a boolean array.\n",
    "iloc: Allows you to access a group of rows and columns by integer index."
   ]
  },
  {
   "cell_type": "markdown",
   "id": "d896bc63-32e4-4453-8306-7ce49eb66298",
   "metadata": {},
   "source": [
    "Q3. Reindex the given dataframe and find output for new_df.loc[2] and new_df.iloc[2]:\n",
    "\n",
    "reindex = [3, 0, 1, 2]\n",
    "new_df = df.reindex(reindex)\n",
    "\n",
    "# Output for new_df.loc[2] and new_df.iloc[2]\n",
    "print(\"Output for new_df.loc[2]:\", new_df.loc[2])\n",
    "print(\"Output for new_df.iloc[2]:\", new_df.iloc[2])\n"
   ]
  },
  {
   "cell_type": "markdown",
   "id": "4db007cd-045a-4c70-a0e2-434b70bf6038",
   "metadata": {},
   "source": [
    "Q4. Statistical measurements for the dataframe df1:\n",
    "\n",
    "# Assuming df1 is the given dataframe\n",
    "# (i) Mean of each column\n",
    "means = df1.mean()\n",
    "print(\"Mean of each column:\")\n",
    "print(means)\n",
    "\n",
    "# (ii) Standard deviation of column 'column_2'\n",
    "std_dev_column_2 = df1['column_2'].std()\n",
    "print(\"\\nStandard deviation of column 'column_2':\", std_dev_column_2)\n"
   ]
  }
 ],
 "metadata": {
  "kernelspec": {
   "display_name": "Python 3 (ipykernel)",
   "language": "python",
   "name": "python3"
  },
  "language_info": {
   "codemirror_mode": {
    "name": "ipython",
    "version": 3
   },
   "file_extension": ".py",
   "mimetype": "text/x-python",
   "name": "python",
   "nbconvert_exporter": "python",
   "pygments_lexer": "ipython3",
   "version": "3.10.8"
  }
 },
 "nbformat": 4,
 "nbformat_minor": 5
}
